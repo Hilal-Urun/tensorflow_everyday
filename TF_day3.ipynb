{
  "nbformat": 4,
  "nbformat_minor": 0,
  "metadata": {
    "colab": {
      "name": "TF_day3.ipynb",
      "provenance": [],
      "collapsed_sections": [],
      "authorship_tag": "ABX9TyM5HOdaoB2PdbeteW6z0fuq",
      "include_colab_link": true
    },
    "kernelspec": {
      "name": "python3",
      "display_name": "Python 3"
    },
    "language_info": {
      "name": "python"
    }
  },
  "cells": [
    {
      "cell_type": "markdown",
      "metadata": {
        "id": "view-in-github",
        "colab_type": "text"
      },
      "source": [
        "<a href=\"https://colab.research.google.com/github/Hilal-Urun/tensorflow_everyday/blob/main/TF_day3.ipynb\" target=\"_parent\"><img src=\"https://colab.research.google.com/assets/colab-badge.svg\" alt=\"Open In Colab\"/></a>"
      ]
    },
    {
      "cell_type": "code",
      "execution_count": 1,
      "metadata": {
        "id": "pQMiOgZ3UCbf"
      },
      "outputs": [],
      "source": [
        "#today we are going to do text classification, first of all we are starting to classify plain text stored our disk\n",
        "#and we are going to do sentiment analysis on IMDB dataset to classify movie reviews as possitive or negative\n",
        "#before we start we need to import libraries we are going to use\n",
        "import matplotlib.pyplot as plt\n",
        "import os\n",
        "import re\n",
        "import shutil\n",
        "import string\n",
        "import tensorflow as tf"
      ]
    },
    {
      "cell_type": "code",
      "source": [
        "#now we download our data and see directory structure and when we insall our data\n",
        "#you can see our dataset in files and you can examine on exracted file named aclImdb and \n",
        "#when you look do data you will see its already splitted as training and testing data and \n",
        "#noth are includes positive and negative texts seperately.\n",
        "url = \"https://ai.stanford.edu/~amaas/data/sentiment/aclImdb_v1.tar.gz\"\n",
        "\n",
        "dataset = tf.keras.utils.get_file(\"aclImdb_v1\", url,\n",
        "                                    untar=True, cache_dir='.',\n",
        "                                    cache_subdir='')\n",
        "dataset_dir = os.path.join(os.path.dirname(dataset), 'aclImdb')"
      ],
      "metadata": {
        "colab": {
          "base_uri": "https://localhost:8080/"
        },
        "id": "VFww4hBeONKZ",
        "outputId": "20d0e8a5-47af-45bf-c5d9-6c813c824386"
      },
      "execution_count": 2,
      "outputs": [
        {
          "output_type": "stream",
          "name": "stdout",
          "text": [
            "Downloading data from https://ai.stanford.edu/~amaas/data/sentiment/aclImdb_v1.tar.gz\n",
            "84131840/84125825 [==============================] - 5s 0us/step\n",
            "84140032/84125825 [==============================] - 5s 0us/step\n"
          ]
        }
      ]
    },
    {
      "cell_type": "code",
      "source": [
        "#if we want to look one of the file ;\n",
        "sample_file = os.path.join(dataset_dir, 'train/pos/1181_9.txt')\n",
        "with open(sample_file) as f:\n",
        "  print(f.read())"
      ],
      "metadata": {
        "colab": {
          "base_uri": "https://localhost:8080/"
        },
        "id": "dTNr26A-PCQJ",
        "outputId": "6edab900-a6c1-4720-ecab-b7326950b770"
      },
      "execution_count": 3,
      "outputs": [
        {
          "output_type": "stream",
          "name": "stdout",
          "text": [
            "Rachel Griffiths writes and directs this award winning short film. A heartwarming story about coping with grief and cherishing the memory of those we've loved and lost. Although, only 15 minutes long, Griffiths manages to capture so much emotion and truth onto film in the short space of time. Bud Tingwell gives a touching performance as Will, a widower struggling to cope with his wife's death. Will is confronted by the harsh reality of loneliness and helplessness as he proceeds to take care of Ruth's pet cow, Tulip. The film displays the grief and responsibility one feels for those they have loved and lost. Good cinematography, great direction, and superbly acted. It will bring tears to all those who have lost a loved one, and survived.\n"
          ]
        }
      ]
    },
    {
      "cell_type": "code",
      "source": [
        "#now before starting to build our model we need to prepare our data for training\n",
        "#and we just need to negative and positive texts we just discard the others\n",
        "train_dir = os.path.join(dataset_dir, 'train')\n",
        "remove_dir = os.path.join(train_dir, 'unsup')\n",
        "shutil.rmtree(remove_dir)"
      ],
      "metadata": {
        "id": "WMicx97hQJ5t"
      },
      "execution_count": 4,
      "outputs": []
    },
    {
      "cell_type": "code",
      "source": [
        "#as you know when working with a machine learning task it is better to divide\n",
        "#your dataset as 3 part as training, validation and test. our dataset already divided \n",
        "#to two parts like training and test and now we are going to split our traing set as \n",
        "#training and validation set with a ratio that %80 training data and %20 validation data \n",
        "#for avoiding the overlap we need to use random seed or instead of this we can use suffle=false  \n",
        "batch_size = 32\n",
        "seed = 42\n",
        "raw_train_data = tf.keras.utils.text_dataset_from_directory(\n",
        "    'aclImdb/train', \n",
        "    batch_size=batch_size, \n",
        "    validation_split=0.2, \n",
        "    subset='training', \n",
        "    seed=seed)"
      ],
      "metadata": {
        "id": "U84K4YqcSw6m",
        "colab": {
          "base_uri": "https://localhost:8080/"
        },
        "outputId": "9ae5d107-30f9-4261-d290-1a8b397deb5b"
      },
      "execution_count": 5,
      "outputs": [
        {
          "output_type": "stream",
          "name": "stdout",
          "text": [
            "Found 25000 files belonging to 2 classes.\n",
            "Using 20000 files for training.\n"
          ]
        }
      ]
    },
    {
      "cell_type": "code",
      "source": [
        "raw_validation_data = tf.keras.utils.text_dataset_from_directory(\n",
        "    'aclImdb/train', \n",
        "    batch_size=batch_size, \n",
        "    validation_split=0.2, \n",
        "    subset='validation', \n",
        "    seed=seed)"
      ],
      "metadata": {
        "colab": {
          "base_uri": "https://localhost:8080/"
        },
        "id": "PVmIMQixjv-L",
        "outputId": "d16bb8c6-d8d9-4caf-8c85-414027ffc347"
      },
      "execution_count": 6,
      "outputs": [
        {
          "output_type": "stream",
          "name": "stdout",
          "text": [
            "Found 25000 files belonging to 2 classes.\n",
            "Using 5000 files for validation.\n"
          ]
        }
      ]
    },
    {
      "cell_type": "code",
      "source": [
        "raw_test_data = tf.keras.utils.text_dataset_from_directory(\n",
        "    'aclImdb/test', \n",
        "    batch_size=batch_size)"
      ],
      "metadata": {
        "colab": {
          "base_uri": "https://localhost:8080/"
        },
        "id": "pdJ022Sjk6Ek",
        "outputId": "6a723ad2-a762-4e6e-df49-8a1353097451"
      },
      "execution_count": 7,
      "outputs": [
        {
          "output_type": "stream",
          "name": "stdout",
          "text": [
            "Found 25000 files belonging to 2 classes.\n"
          ]
        }
      ]
    },
    {
      "cell_type": "markdown",
      "source": [
        "\n",
        "*   Before training we need to standardize, tokenize and vectorize our data\n",
        "*   Standardization means that we need to clean our text data such as punctuation and html syntax.\n",
        "*   Tokenization means that we are splitting our text to tokens like it's words and spaces\n",
        "*   Vectorization means that we will convert our tokens to numbers to feed our neural network\n",
        "*   All these can done by tf.keras.layers.TextVectorization layer but one thing to remember\n",
        "*   We can not remove html tags with this layer, we need to write a custom function to clean our text data to html tags"
      ],
      "metadata": {
        "id": "7gF3NYaPnIfk"
      }
    },
    {
      "cell_type": "code",
      "source": [
        "def custom_standardization(input_data):\n",
        "  lowercase = tf.strings.lower(input_data)\n",
        "  stripped_html = tf.strings.regex_replace(lowercase, '<br />', ' ')\n",
        "  return tf.strings.regex_replace(stripped_html,\n",
        "                                  '[%s]' % re.escape(string.punctuation),\n",
        "                                  '')"
      ],
      "metadata": {
        "id": "JCJDoCvllAPq"
      },
      "execution_count": 8,
      "outputs": []
    },
    {
      "cell_type": "code",
      "source": [
        "#now we can use the tf.keras.layers.TextVectorization layer for standardize, tokenize and vectorize our text data\n",
        "#we are setting our output mode to int for taking unique integer indeces for every token\n",
        "max_features = 10000\n",
        "sequence_length = 250\n",
        "vectorize_layer = tf.keras.layers.TextVectorization(\n",
        "    standardize=custom_standardization,\n",
        "    max_tokens=max_features,\n",
        "    output_mode='int',\n",
        "    output_sequence_length=sequence_length)"
      ],
      "metadata": {
        "id": "OUkVPptMn3IO"
      },
      "execution_count": 9,
      "outputs": []
    },
    {
      "cell_type": "code",
      "source": [
        "#adapt fits the state of the preprocessing layer to the dataset and this will cause the model to build an index of strings to integers.\n",
        "train_text = raw_train_data.map(lambda x, y: x)\n",
        "vectorize_layer.adapt(train_text)"
      ],
      "metadata": {
        "id": "WseRBxhZotLI"
      },
      "execution_count": 10,
      "outputs": []
    },
    {
      "cell_type": "code",
      "source": [
        "#before continue we will create a function and see the results of using this layer\n",
        "def vectorize_text(text, label):\n",
        "  text = tf.expand_dims(text, -1)\n",
        "  return vectorize_layer(text), label"
      ],
      "metadata": {
        "id": "YWn17qfSpvsR"
      },
      "execution_count": 11,
      "outputs": []
    },
    {
      "cell_type": "code",
      "source": [
        "text_batch, label_batch = next(iter(raw_train_data))\n",
        "first_review, first_label = text_batch[0], label_batch[0]\n",
        "print(\"Review\", first_review)\n",
        "print(\"Label\", raw_train_data.class_names[first_label])\n",
        "print(\"Vectorized review\", vectorize_text(first_review, first_label))"
      ],
      "metadata": {
        "colab": {
          "base_uri": "https://localhost:8080/"
        },
        "id": "AB9DPXzwqIRQ",
        "outputId": "c22cd373-bcaf-4774-b4cd-acb63165b26c"
      },
      "execution_count": 12,
      "outputs": [
        {
          "output_type": "stream",
          "name": "stdout",
          "text": [
            "Review tf.Tensor(b'Silent Night, Deadly Night 5 is the very last of the series, and like part 4, it\\'s unrelated to the first three except by title and the fact that it\\'s a Christmas-themed horror flick.<br /><br />Except to the oblivious, there\\'s some obvious things going on here...Mickey Rooney plays a toymaker named Joe Petto and his creepy son\\'s name is Pino. Ring a bell, anyone? Now, a little boy named Derek heard a knock at the door one evening, and opened it to find a present on the doorstep for him. Even though it said \"don\\'t open till Christmas\", he begins to open it anyway but is stopped by his dad, who scolds him and sends him to bed, and opens the gift himself. Inside is a little red ball that sprouts Santa arms and a head, and proceeds to kill dad. Oops, maybe he should have left well-enough alone. Of course Derek is then traumatized by the incident since he watched it from the stairs, but he doesn\\'t grow up to be some killer Santa, he just stops talking.<br /><br />There\\'s a mysterious stranger lurking around, who seems very interested in the toys that Joe Petto makes. We even see him buying a bunch when Derek\\'s mom takes him to the store to find a gift for him to bring him out of his trauma. And what exactly is this guy doing? Well, we\\'re not sure but he does seem to be taking these toys apart to see what makes them tick. He does keep his landlord from evicting him by promising him to pay him in cash the next day and presents him with a \"Larry the Larvae\" toy for his kid, but of course \"Larry\" is not a good toy and gets out of the box in the car and of course, well, things aren\\'t pretty.<br /><br />Anyway, eventually what\\'s going on with Joe Petto and Pino is of course revealed, and as with the old story, Pino is not a \"real boy\". Pino is probably even more agitated and naughty because he suffers from \"Kenitalia\" (a smooth plastic crotch) so that could account for his evil ways. And the identity of the lurking stranger is revealed too, and there\\'s even kind of a happy ending of sorts. Whee.<br /><br />A step up from part 4, but not much of one. Again, Brian Yuzna is involved, and Screaming Mad George, so some decent special effects, but not enough to make this great. A few leftovers from part 4 are hanging around too, like Clint Howard and Neith Hunter, but that doesn\\'t really make any difference. Anyway, I now have seeing the whole series out of my system. Now if I could get some of it out of my brain. 4 out of 5.', shape=(), dtype=string)\n",
            "Label neg\n",
            "Vectorized review (<tf.Tensor: shape=(1, 250), dtype=int64, numpy=\n",
            "array([[1287,  313, 2380,  313,  661,    7,    2,   52,  229,    5,    2,\n",
            "         200,    3,   38,  170,  669,   29, 5492,    6,    2,   83,  297,\n",
            "         549,   32,  410,    3,    2,  186,   12,   29,    4,    1,  191,\n",
            "         510,  549,    6,    2, 8229,  212,   46,  576,  175,  168,   20,\n",
            "           1, 5361,  290,    4,    1,  761,  969,    1,    3,   24,  935,\n",
            "        2271,  393,    7,    1, 1675,    4, 3747,  250,  148,    4,  112,\n",
            "         436,  761, 3529,  548,    4, 3633,   31,    2, 1331,   28, 2096,\n",
            "           3, 2912,    9,    6,  163,    4, 1006,   20,    2,    1,   15,\n",
            "          85,   53,  147,    9,  292,   89,  959, 2314,  984,   27,  762,\n",
            "           6,  959,    9,  564,   18,    7, 2140,   32,   24, 1254,   36,\n",
            "           1,   85,    3, 3298,   85,    6, 1410,    3, 1936,    2, 3408,\n",
            "         301,  965,    7,    4,  112,  740, 1977,   12,    1, 2014, 2772,\n",
            "           3,    4,  428,    3, 5177,    6,  512, 1254,    1,  278,   27,\n",
            "         139,   25,  308,    1,  579,    5,  259, 3529,    7,   92, 8981,\n",
            "          32,    2, 3842,  230,   27,  289,    9,   35,    2, 5712,   18,\n",
            "          27,  144, 2166,   56,    6,   26,   46,  466, 2014,   27,   40,\n",
            "        2745,  657,  212,    4, 1376, 3002, 7080,  183,   36,  180,   52,\n",
            "         920,    8,    2, 4028,   12,  969,    1,  158,   71,   53,   67,\n",
            "          85, 2754,    4,  734,   51,    1, 1611,  294,   85,    6,    2,\n",
            "        1164,    6,  163,    4, 3408,   15,   85,    6,  717,   85,   44,\n",
            "           5,   24, 7158,    3,   48,  604,    7,   11,  225,  384,   73,\n",
            "          65,   21,  242,   18,   27,  120,  295,    6,   26,  667,  129,\n",
            "        4028,  948,    6,   67,   48,  158,   93,    1]])>, <tf.Tensor: shape=(), dtype=int32, numpy=0>)\n"
          ]
        }
      ]
    },
    {
      "cell_type": "markdown",
      "source": [
        "As we can see above, each token replaced by an integer.We can also check specific numbers meaning in our tokens with calling get_vocabulary() on the layer, let's see!"
      ],
      "metadata": {
        "id": "p-QWxq0_qdSA"
      }
    },
    {
      "cell_type": "code",
      "source": [
        "print(\"1578 ---> \",vectorize_layer.get_vocabulary()[1578])\n",
        "print(\"359 ---> \",vectorize_layer.get_vocabulary()[359])\n",
        "print('Vocabulary size: {}'.format(len(vectorize_layer.get_vocabulary())))"
      ],
      "metadata": {
        "colab": {
          "base_uri": "https://localhost:8080/"
        },
        "id": "_b0L9RfIqZbJ",
        "outputId": "ea8729c2-5762-4249-9234-49ac3923cf2a"
      },
      "execution_count": 13,
      "outputs": [
        {
          "output_type": "stream",
          "name": "stdout",
          "text": [
            "1578 --->  finding\n",
            "359 --->  production\n",
            "Vocabulary size: 10000\n"
          ]
        }
      ]
    },
    {
      "cell_type": "code",
      "source": [
        "#as our final preprocessing on our data we are going to apply vectorize_text to our train, validation and test data\n",
        "train_data = raw_train_data.map(vectorize_text)\n",
        "validation_data = raw_validation_data.map(vectorize_text)\n",
        "test_data = raw_test_data.map(vectorize_text) "
      ],
      "metadata": {
        "id": "w47-aTQ5rHAO"
      },
      "execution_count": 14,
      "outputs": []
    },
    {
      "cell_type": "markdown",
      "source": [
        "For dataset performance issues, .cache() keeps data in memory after it's loaded off disk. This will ensure the dataset does not become a bottleneck while training your model. \n",
        ".prefetch() overlaps data preprocessing and model execution while training."
      ],
      "metadata": {
        "id": "W_40hgc4r_rP"
      }
    },
    {
      "cell_type": "code",
      "source": [
        "AUTOTUNE = tf.data.AUTOTUNE\n",
        "train_data = train_data.cache().prefetch(buffer_size=AUTOTUNE)\n",
        "validation_data = validation_data.cache().prefetch(buffer_size=AUTOTUNE)\n",
        "test_data = test_data.cache().prefetch(buffer_size=AUTOTUNE)"
      ],
      "metadata": {
        "id": "xgRtY76BrtVO"
      },
      "execution_count": 15,
      "outputs": []
    },
    {
      "cell_type": "markdown",
      "source": [
        "Embedding layer; This layer takes the integer-encoded reviews and looks up an embedding vector for each word-index. These vectors are learned as the model trains. The vectors add a dimension to the output array. The resulting dimensions are: batch, sequence, embedding.\n",
        "Next, a GlobalAveragePooling1D layer returns a fixed-length output vector for each example by averaging over the sequence dimension. This allows the model to handle input of variable length, in the simplest way possible.\n",
        "This fixed-length output vector is piped through a fully-connected or dense layer with 16 hidden units.\n",
        "The last layer is densely connected with a single output node."
      ],
      "metadata": {
        "id": "tPBk_ltttVlh"
      }
    },
    {
      "cell_type": "code",
      "source": [
        "#time to create our neural network!!\n",
        "model = tf.keras.Sequential([\n",
        "  tf.keras.layers.Embedding(max_features + 1, 16),\n",
        "  tf.keras.layers.Dropout(0.2),\n",
        "  tf.keras.layers.GlobalAveragePooling1D(),\n",
        "  tf.keras.layers.Dropout(0.2),\n",
        "  tf.keras.layers.Dense(1)])\n",
        "\n",
        "model.summary()\n"
      ],
      "metadata": {
        "colab": {
          "base_uri": "https://localhost:8080/"
        },
        "id": "JSf87c-ssyYF",
        "outputId": "e8edc952-ecc0-46b3-b00d-346b84fea5bc"
      },
      "execution_count": 16,
      "outputs": [
        {
          "output_type": "stream",
          "name": "stdout",
          "text": [
            "Model: \"sequential\"\n",
            "_________________________________________________________________\n",
            " Layer (type)                Output Shape              Param #   \n",
            "=================================================================\n",
            " embedding (Embedding)       (None, None, 16)          160016    \n",
            "                                                                 \n",
            " dropout (Dropout)           (None, None, 16)          0         \n",
            "                                                                 \n",
            " global_average_pooling1d (G  (None, 16)               0         \n",
            " lobalAveragePooling1D)                                          \n",
            "                                                                 \n",
            " dropout_1 (Dropout)         (None, 16)                0         \n",
            "                                                                 \n",
            " dense (Dense)               (None, 1)                 17        \n",
            "                                                                 \n",
            "=================================================================\n",
            "Total params: 160,033\n",
            "Trainable params: 160,033\n",
            "Non-trainable params: 0\n",
            "_________________________________________________________________\n"
          ]
        }
      ]
    },
    {
      "cell_type": "code",
      "source": [
        "#now we need to an optimizer and a loss function for training and since its binary \n",
        "#classification we can use BinaryCrossentropy loss function\n",
        "model.compile(loss=tf.keras.losses.BinaryCrossentropy(from_logits=True),\n",
        "              optimizer='adam',\n",
        "              metrics=tf.metrics.BinaryAccuracy(threshold=0.0))"
      ],
      "metadata": {
        "id": "ddBFKicYuPo7"
      },
      "execution_count": 17,
      "outputs": []
    },
    {
      "cell_type": "code",
      "source": [
        "#then, we can train our model \n",
        "history = model.fit(\n",
        "    train_data,\n",
        "    validation_data=validation_data,\n",
        "    epochs=15)"
      ],
      "metadata": {
        "colab": {
          "base_uri": "https://localhost:8080/"
        },
        "id": "ijFJ0Xsvux1B",
        "outputId": "d7f8d317-6aa1-40d7-bd2c-eb2506801c6e"
      },
      "execution_count": 18,
      "outputs": [
        {
          "output_type": "stream",
          "name": "stdout",
          "text": [
            "Epoch 1/15\n",
            "625/625 [==============================] - 12s 18ms/step - loss: 0.6643 - binary_accuracy: 0.6877 - val_loss: 0.6149 - val_binary_accuracy: 0.7736\n",
            "Epoch 2/15\n",
            "625/625 [==============================] - 6s 9ms/step - loss: 0.5488 - binary_accuracy: 0.7998 - val_loss: 0.4980 - val_binary_accuracy: 0.8214\n",
            "Epoch 3/15\n",
            "625/625 [==============================] - 5s 8ms/step - loss: 0.4446 - binary_accuracy: 0.8452 - val_loss: 0.4197 - val_binary_accuracy: 0.8480\n",
            "Epoch 4/15\n",
            "625/625 [==============================] - 5s 8ms/step - loss: 0.3777 - binary_accuracy: 0.8665 - val_loss: 0.3734 - val_binary_accuracy: 0.8614\n",
            "Epoch 5/15\n",
            "625/625 [==============================] - 5s 8ms/step - loss: 0.3353 - binary_accuracy: 0.8791 - val_loss: 0.3448 - val_binary_accuracy: 0.8670\n",
            "Epoch 6/15\n",
            "625/625 [==============================] - 5s 8ms/step - loss: 0.3045 - binary_accuracy: 0.8881 - val_loss: 0.3255 - val_binary_accuracy: 0.8722\n",
            "Epoch 7/15\n",
            "625/625 [==============================] - 5s 8ms/step - loss: 0.2818 - binary_accuracy: 0.8963 - val_loss: 0.3126 - val_binary_accuracy: 0.8736\n",
            "Epoch 8/15\n",
            "625/625 [==============================] - 5s 8ms/step - loss: 0.2620 - binary_accuracy: 0.9032 - val_loss: 0.3031 - val_binary_accuracy: 0.8770\n",
            "Epoch 9/15\n",
            "625/625 [==============================] - 5s 8ms/step - loss: 0.2453 - binary_accuracy: 0.9111 - val_loss: 0.2963 - val_binary_accuracy: 0.8774\n",
            "Epoch 10/15\n",
            "625/625 [==============================] - 5s 8ms/step - loss: 0.2315 - binary_accuracy: 0.9157 - val_loss: 0.2916 - val_binary_accuracy: 0.8798\n",
            "Epoch 11/15\n",
            "625/625 [==============================] - 5s 8ms/step - loss: 0.2185 - binary_accuracy: 0.9205 - val_loss: 0.2885 - val_binary_accuracy: 0.8812\n",
            "Epoch 12/15\n",
            "625/625 [==============================] - 5s 8ms/step - loss: 0.2078 - binary_accuracy: 0.9255 - val_loss: 0.2868 - val_binary_accuracy: 0.8830\n",
            "Epoch 13/15\n",
            "625/625 [==============================] - 5s 8ms/step - loss: 0.1970 - binary_accuracy: 0.9286 - val_loss: 0.2858 - val_binary_accuracy: 0.8822\n",
            "Epoch 14/15\n",
            "625/625 [==============================] - 5s 8ms/step - loss: 0.1884 - binary_accuracy: 0.9331 - val_loss: 0.2858 - val_binary_accuracy: 0.8832\n",
            "Epoch 15/15\n",
            "625/625 [==============================] - 5s 8ms/step - loss: 0.1775 - binary_accuracy: 0.9393 - val_loss: 0.2868 - val_binary_accuracy: 0.8844\n"
          ]
        }
      ]
    },
    {
      "cell_type": "code",
      "source": [
        "#now let's evaluate our model's acrual performance with our test data\n",
        "loss, accuracy = model.evaluate(test_data)\n",
        "\n",
        "print(\"Loss: \", loss)\n",
        "print(\"Accuracy: \", accuracy)"
      ],
      "metadata": {
        "colab": {
          "base_uri": "https://localhost:8080/"
        },
        "id": "-KEmi9K4vtsh",
        "outputId": "de87810b-90ab-4942-d7f1-b175b6484f5e"
      },
      "execution_count": 19,
      "outputs": [
        {
          "output_type": "stream",
          "name": "stdout",
          "text": [
            "782/782 [==============================] - 9s 11ms/step - loss: 0.3115 - binary_accuracy: 0.8732\n",
            "Loss:  0.3114981949329376\n",
            "Accuracy:  0.873199999332428\n"
          ]
        }
      ]
    },
    {
      "cell_type": "markdown",
      "source": [
        "when we compare our accuracies there very close to each other but our training data is quite better than generalization error and it can cause to overfitting and for avoiding overfitting we can use some methods and we will add these and improve our model and classification performance tomorrow :) Stay with TF 🧡"
      ],
      "metadata": {
        "id": "dRVIRSEbwNDY"
      }
    }
  ]
}