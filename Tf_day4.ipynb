{
  "nbformat": 4,
  "nbformat_minor": 0,
  "metadata": {
    "colab": {
      "name": "Tf day4.ipynb",
      "provenance": [],
      "collapsed_sections": [],
      "authorship_tag": "ABX9TyMVt/e16riTUFkqEskt/jyv",
      "include_colab_link": true
    },
    "kernelspec": {
      "name": "python3",
      "display_name": "Python 3"
    },
    "language_info": {
      "name": "python"
    }
  },
  "cells": [
    {
      "cell_type": "markdown",
      "metadata": {
        "id": "view-in-github",
        "colab_type": "text"
      },
      "source": [
        "<a href=\"https://colab.research.google.com/github/Hilal-Urun/tensorflow_everyday/blob/main/Tf_day4.ipynb\" target=\"_parent\"><img src=\"https://colab.research.google.com/assets/colab-badge.svg\" alt=\"Open In Colab\"/></a>"
      ]
    },
    {
      "cell_type": "markdown",
      "source": [
        "In this notebook we are going to classifiy movie ratigs as positive and negative like we did tf_day3, like before it is again a binary classification problem which is very comman in machine learning area but the difference is we are going to examine transfer learning with tensorflow and keras in this time. Furhermore, we are going to use IMDB dataset which contains 50000 reviews from the internet and for this dataset we have equal number of train and test dataset and also contains equal number of positive and negative data.\n",
        "As we mentioned before, in this notebook we are going to use transfer learning and for this purpose we are going to use tensorflow_hub for loading already trained models."
      ],
      "metadata": {
        "id": "pkgUQTPgmiOf"
      }
    },
    {
      "cell_type": "code",
      "execution_count": 9,
      "metadata": {
        "id": "jhyDfbK5iepy"
      },
      "outputs": [],
      "source": [
        "import os \n",
        "import numpy as np\n",
        "import tensorflow as tf\n",
        "import tensorflow_datasets as tfds\n",
        "import tensorflow_hub as hub"
      ]
    },
    {
      "cell_type": "code",
      "source": [
        "#now we are going to load our dataset from tensorfow_datasets and split it as training, validationn and test data \n",
        "train_data, validation_data, test_data = tfds.load(\n",
        "    name=\"imdb_reviews\", \n",
        "    split=('train[:60%]', 'train[60%:]', 'test'),\n",
        "    as_supervised=True)"
      ],
      "metadata": {
        "id": "b3zs0fd1pDVv"
      },
      "execution_count": 10,
      "outputs": []
    },
    {
      "cell_type": "code",
      "source": [
        "#now we can explore our data and its format then lets just print first 5 examples of our data and their labels \n",
        "#0 means negative example and 1 means positve example \n",
        "train_examples_batch, train_labels_batch = next(iter(train_data.batch(5)))"
      ],
      "metadata": {
        "id": "YJGqcFnGxX99"
      },
      "execution_count": 11,
      "outputs": []
    },
    {
      "cell_type": "code",
      "source": [
        "train_examples_batch"
      ],
      "metadata": {
        "colab": {
          "base_uri": "https://localhost:8080/"
        },
        "id": "ZAP6aSzwyLWO",
        "outputId": "d45d71fc-bf3e-44dc-c9f1-6500127adb4a"
      },
      "execution_count": 12,
      "outputs": [
        {
          "output_type": "execute_result",
          "data": {
            "text/plain": [
              "<tf.Tensor: shape=(5,), dtype=string, numpy=\n",
              "array([b\"This was an absolutely terrible movie. Don't be lured in by Christopher Walken or Michael Ironside. Both are great actors, but this must simply be their worst role in history. Even their great acting could not redeem this movie's ridiculous storyline. This movie is an early nineties US propaganda piece. The most pathetic scenes were those when the Columbian rebels were making their cases for revolutions. Maria Conchita Alonso appeared phony, and her pseudo-love affair with Walken was nothing but a pathetic emotional plug in a movie that was devoid of any real meaning. I am disappointed that there are movies like this, ruining actor's like Christopher Walken's good name. I could barely sit through it.\",\n",
              "       b'I have been known to fall asleep during films, but this is usually due to a combination of things including, really tired, being warm and comfortable on the sette and having just eaten a lot. However on this occasion I fell asleep because the film was rubbish. The plot development was constant. Constantly slow and boring. Things seemed to happen, but with no explanation of what was causing them or why. I admit, I may have missed part of the film, but i watched the majority of it and everything just seemed to happen of its own accord without any real concern for anything else. I cant recommend this film at all.',\n",
              "       b'Mann photographs the Alberta Rocky Mountains in a superb fashion, and Jimmy Stewart and Walter Brennan give enjoyable performances as they always seem to do. <br /><br />But come on Hollywood - a Mountie telling the people of Dawson City, Yukon to elect themselves a marshal (yes a marshal!) and to enforce the law themselves, then gunfighters battling it out on the streets for control of the town? <br /><br />Nothing even remotely resembling that happened on the Canadian side of the border during the Klondike gold rush. Mr. Mann and company appear to have mistaken Dawson City for Deadwood, the Canadian North for the American Wild West.<br /><br />Canadian viewers be prepared for a Reefer Madness type of enjoyable howl with this ludicrous plot, or, to shake your head in disgust.',\n",
              "       b'This is the kind of film for a snowy Sunday afternoon when the rest of the world can go ahead with its own business as you descend into a big arm-chair and mellow for a couple of hours. Wonderful performances from Cher and Nicolas Cage (as always) gently row the plot along. There are no rapids to cross, no dangerous waters, just a warm and witty paddle through New York life at its best. A family film in every sense and one that deserves the praise it received.',\n",
              "       b'As others have mentioned, all the women that go nude in this film are mostly absolutely gorgeous. The plot very ably shows the hypocrisy of the female libido. When men are around they want to be pursued, but when no \"men\" are around, they become the pursuers of a 14 year old boy. And the boy becomes a man really fast (we should all be so lucky at this age!). He then gets up the courage to pursue his true love.'],\n",
              "      dtype=object)>"
            ]
          },
          "metadata": {},
          "execution_count": 12
        }
      ]
    },
    {
      "cell_type": "code",
      "source": [
        "train_labels_batch"
      ],
      "metadata": {
        "colab": {
          "base_uri": "https://localhost:8080/"
        },
        "id": "sMmg1zq5yfJQ",
        "outputId": "b9e97080-dfd4-4378-c4f5-ef1e188b4dce"
      },
      "execution_count": 13,
      "outputs": [
        {
          "output_type": "execute_result",
          "data": {
            "text/plain": [
              "<tf.Tensor: shape=(5,), dtype=int64, numpy=array([0, 0, 0, 1, 1])>"
            ]
          },
          "metadata": {},
          "execution_count": 13
        }
      ]
    },
    {
      "cell_type": "code",
      "source": [
        "#time to build our model, and our data consists of sentences, labels are 0 or 1.\n",
        "#one way to represent the sentences is convert it into embedding vectors, then we will use in our first layers as pretrained text embeddings\n",
        "#this time we will use pretrained text embeddings frım tensorflow hub but the others also possible \n",
        "embedding = \"https://tfhub.dev/google/nnlm-en-dim50/2\"\n",
        "hub_layer = hub.KerasLayer(embedding, input_shape=[], \n",
        "                           dtype=tf.string, trainable=True)\n",
        "hub_layer(train_examples_batch[:3])\n"
      ],
      "metadata": {
        "colab": {
          "base_uri": "https://localhost:8080/"
        },
        "id": "ETwn8Xrzyupp",
        "outputId": "3d3e4d98-5330-46ad-e8c1-cb64c87fce11"
      },
      "execution_count": 14,
      "outputs": [
        {
          "output_type": "execute_result",
          "data": {
            "text/plain": [
              "<tf.Tensor: shape=(3, 50), dtype=float32, numpy=\n",
              "array([[ 0.5423195 , -0.0119017 ,  0.06337538,  0.06862972, -0.16776837,\n",
              "        -0.10581174,  0.16865303, -0.04998824, -0.31148055,  0.07910346,\n",
              "         0.15442263,  0.01488662,  0.03930153,  0.19772711, -0.12215476,\n",
              "        -0.04120981, -0.2704109 , -0.21922152,  0.26517662, -0.80739075,\n",
              "         0.25833532, -0.3100421 ,  0.28683215,  0.1943387 , -0.29036492,\n",
              "         0.03862849, -0.7844411 , -0.0479324 ,  0.4110299 , -0.36388892,\n",
              "        -0.58034706,  0.30269456,  0.3630897 , -0.15227164, -0.44391504,\n",
              "         0.19462997,  0.19528408,  0.05666234,  0.2890704 , -0.28468323,\n",
              "        -0.00531206,  0.0571938 , -0.3201318 , -0.04418665, -0.08550783,\n",
              "        -0.55847436, -0.23336391, -0.20782952, -0.03543064, -0.17533456],\n",
              "       [ 0.56338924, -0.12339553, -0.10862679,  0.7753425 , -0.07667089,\n",
              "        -0.15752277,  0.01872335, -0.08169781, -0.3521876 ,  0.4637341 ,\n",
              "        -0.08492756,  0.07166859, -0.00670817,  0.12686075, -0.19326553,\n",
              "        -0.52626437, -0.3295823 ,  0.14394785,  0.09043556, -0.5417555 ,\n",
              "         0.02468163, -0.15456742,  0.68333143,  0.09068331, -0.45327246,\n",
              "         0.23180096, -0.8615696 ,  0.34480393,  0.12838456, -0.58759046,\n",
              "        -0.4071231 ,  0.23061076,  0.48426893, -0.27128142, -0.5380916 ,\n",
              "         0.47016326,  0.22572741, -0.00830663,  0.2846242 , -0.304985  ,\n",
              "         0.04400365,  0.25025874,  0.14867121,  0.40717036, -0.15422426,\n",
              "        -0.06878027, -0.40825695, -0.3149215 ,  0.09283665, -0.20183425],\n",
              "       [ 0.7456154 ,  0.21256861,  0.14400336,  0.5233862 ,  0.11032254,\n",
              "         0.00902788, -0.3667802 , -0.08938274, -0.24165542,  0.33384594,\n",
              "        -0.11194605, -0.01460047, -0.0071645 ,  0.19562712,  0.00685216,\n",
              "        -0.24886718, -0.42796347,  0.18620004, -0.05241098, -0.66462487,\n",
              "         0.13449019, -0.22205497,  0.08633006,  0.43685386,  0.2972681 ,\n",
              "         0.36140734, -0.7196889 ,  0.05291241, -0.14316116, -0.1573394 ,\n",
              "        -0.15056328, -0.05988009, -0.08178931, -0.15569411, -0.09303783,\n",
              "        -0.18971172,  0.07620788, -0.02541647, -0.27134508, -0.3392682 ,\n",
              "        -0.10296468, -0.27275252, -0.34078008,  0.20083304, -0.26644835,\n",
              "         0.00655449, -0.05141488, -0.04261917, -0.45413622,  0.20023568]],\n",
              "      dtype=float32)>"
            ]
          },
          "metadata": {},
          "execution_count": 14
        }
      ]
    },
    {
      "cell_type": "code",
      "source": [
        "#our full model follows\n",
        "model = tf.keras.Sequential()\n",
        "model.add(hub_layer)\n",
        "model.add(tf.keras.layers.Dense(16, activation='relu'))\n",
        "model.add(tf.keras.layers.Dense(1))model.summary()"
      ],
      "metadata": {
        "colab": {
          "base_uri": "https://localhost:8080/"
        },
        "id": "nCHWyYs80TQ5",
        "outputId": "4f589836-9338-4c44-888d-60d53133accb"
      },
      "execution_count": 15,
      "outputs": [
        {
          "output_type": "stream",
          "name": "stdout",
          "text": [
            "Model: \"sequential\"\n",
            "_________________________________________________________________\n",
            " Layer (type)                Output Shape              Param #   \n",
            "=================================================================\n",
            " keras_layer (KerasLayer)    (None, 50)                48190600  \n",
            "                                                                 \n",
            " dense (Dense)               (None, 16)                816       \n",
            "                                                                 \n",
            " dense_1 (Dense)             (None, 1)                 17        \n",
            "                                                                 \n",
            "=================================================================\n",
            "Total params: 48,191,433\n",
            "Trainable params: 48,191,433\n",
            "Non-trainable params: 0\n",
            "_________________________________________________________________\n"
          ]
        }
      ]
    },
    {
      "cell_type": "markdown",
      "source": [
        "TensorFlow Hub layer uses a pre-trained model to map a sentence into its embedding vector. The pre-trained text embedding model that we are using splits the sentence into tokens, embeds each token and then combines the embedding. This fixed-length output vector is piped through a fully-connected layer with 16 hidden units.\n",
        "The last layer is densely connected with a single output node."
      ],
      "metadata": {
        "id": "oYZO8-RQ0kVb"
      }
    },
    {
      "cell_type": "code",
      "source": [
        "#now we will compile our model and it needs to a loss function and optimizer, since our model does binary classification we can use the \n",
        "#binary_crossentropy loss function.\n",
        "model.compile(optimizer='adam',\n",
        "              loss=tf.keras.losses.BinaryCrossentropy(from_logits=True),\n",
        "              metrics=['accuracy'])"
      ],
      "metadata": {
        "id": "cA6AGtN80fSP"
      },
      "execution_count": 16,
      "outputs": []
    },
    {
      "cell_type": "markdown",
      "source": [
        "Now we will train the model for 10 epochs in mini-batches of 512 samples. This is 10 iterations over all samples in the x_train and y_train tensors. While training, we will also track our loss and accuracy"
      ],
      "metadata": {
        "id": "K92r-h962Pav"
      }
    },
    {
      "cell_type": "code",
      "source": [
        "history = model.fit(train_data.shuffle(10000).batch(512),\n",
        "                    epochs=10,\n",
        "                    validation_data=validation_data.batch(512),\n",
        "                    verbose=1)"
      ],
      "metadata": {
        "colab": {
          "base_uri": "https://localhost:8080/"
        },
        "id": "Yn8QRs_B2CGo",
        "outputId": "8973a71a-ab2a-4852-f80c-efc8e3fb352d"
      },
      "execution_count": 17,
      "outputs": [
        {
          "output_type": "stream",
          "name": "stdout",
          "text": [
            "Epoch 1/10\n",
            "30/30 [==============================] - 23s 695ms/step - loss: 0.6232 - accuracy: 0.5844 - val_loss: 0.5627 - val_accuracy: 0.6631\n",
            "Epoch 2/10\n",
            "30/30 [==============================] - 21s 685ms/step - loss: 0.4910 - accuracy: 0.7527 - val_loss: 0.4573 - val_accuracy: 0.7740\n",
            "Epoch 3/10\n",
            "30/30 [==============================] - 21s 680ms/step - loss: 0.3674 - accuracy: 0.8449 - val_loss: 0.3771 - val_accuracy: 0.8284\n",
            "Epoch 4/10\n",
            "30/30 [==============================] - 22s 720ms/step - loss: 0.2693 - accuracy: 0.8985 - val_loss: 0.3328 - val_accuracy: 0.8536\n",
            "Epoch 5/10\n",
            "30/30 [==============================] - 23s 739ms/step - loss: 0.1984 - accuracy: 0.9298 - val_loss: 0.3174 - val_accuracy: 0.8683\n",
            "Epoch 6/10\n",
            "30/30 [==============================] - 22s 718ms/step - loss: 0.1466 - accuracy: 0.9558 - val_loss: 0.3042 - val_accuracy: 0.8687\n",
            "Epoch 7/10\n",
            "30/30 [==============================] - 21s 674ms/step - loss: 0.1073 - accuracy: 0.9714 - val_loss: 0.3097 - val_accuracy: 0.8720\n",
            "Epoch 8/10\n",
            "30/30 [==============================] - 21s 686ms/step - loss: 0.0786 - accuracy: 0.9821 - val_loss: 0.3113 - val_accuracy: 0.8683\n",
            "Epoch 9/10\n",
            "30/30 [==============================] - 21s 666ms/step - loss: 0.0565 - accuracy: 0.9894 - val_loss: 0.3215 - val_accuracy: 0.8690\n",
            "Epoch 10/10\n",
            "30/30 [==============================] - 21s 669ms/step - loss: 0.0403 - accuracy: 0.9943 - val_loss: 0.3342 - val_accuracy: 0.8686\n"
          ]
        }
      ]
    },
    {
      "cell_type": "code",
      "source": [
        "#time to see how the our model performs on test data \n",
        "results = model.evaluate(test_data.batch(512), verbose=2)\n",
        "#this returns two variables which are loss and accuracy \n",
        "for name, value in zip(model.metrics_names, results):\n",
        "  print(\"%s: %.3f\" % (name, value))"
      ],
      "metadata": {
        "colab": {
          "base_uri": "https://localhost:8080/"
        },
        "id": "RijYUg5I4HDZ",
        "outputId": "a10949b5-e199-4613-d152-c108ec080ab2"
      },
      "execution_count": 18,
      "outputs": [
        {
          "output_type": "stream",
          "name": "stdout",
          "text": [
            "49/49 - 5s - loss: 0.3595 - accuracy: 0.8557 - 5s/epoch - 103ms/step\n",
            "loss: 0.359\n",
            "accuracy: 0.856\n"
          ]
        }
      ]
    },
    {
      "cell_type": "markdown",
      "source": [
        "This fairly naive approach achieves an accuracy of about 86%. \n"
      ],
      "metadata": {
        "id": "tJhBLlPg5eAQ"
      }
    },
    {
      "cell_type": "markdown",
      "source": [
        "That's all for today see you tomorrow, stay with TF🧡"
      ],
      "metadata": {
        "id": "G7PC8VZc5kjX"
      }
    }
  ]
}