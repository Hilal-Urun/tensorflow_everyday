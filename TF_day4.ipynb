{
  "nbformat": 4,
  "nbformat_minor": 0,
  "metadata": {
    "colab": {
      "name": "TF_day4.ipynb",
      "provenance": [],
      "collapsed_sections": [],
      "authorship_tag": "ABX9TyOcm0iw3QgWtpPYCgxpQqjt",
      "include_colab_link": true
    },
    "kernelspec": {
      "name": "python3",
      "display_name": "Python 3"
    },
    "language_info": {
      "name": "python"
    }
  },
  "cells": [
    {
      "cell_type": "markdown",
      "metadata": {
        "id": "view-in-github",
        "colab_type": "text"
      },
      "source": [
        "<a href=\"https://colab.research.google.com/github/Hilal-Urun/tensorflow_everyday/blob/main/TF_day4.ipynb\" target=\"_parent\"><img src=\"https://colab.research.google.com/assets/colab-badge.svg\" alt=\"Open In Colab\"/></a>"
      ]
    },
    {
      "cell_type": "code",
      "execution_count": 1,
      "metadata": {
        "id": "pQMiOgZ3UCbf"
      },
      "outputs": [],
      "source": [
        "#today we are going to do text classification, first of all we are starting to classify plain text stored our disk\n",
        "#and we are going to do sentiment analysis on IMDB dataset to classify movie reviews as possitive or negative\n",
        "#before we start we need to import libraries we are going to use\n",
        "import matplotlib.pyplot as plt\n",
        "import os\n",
        "import re\n",
        "import shutil\n",
        "import string\n",
        "import tensorflow as tf"
      ]
    },
    {
      "cell_type": "code",
      "source": [
        "#now we download our data and see directory structure and when we insall our data\n",
        "#you can see our dataset in files and you can examine on exracted file named aclImdb and \n",
        "#when you look do data you will see its already splitted as training and testing data and \n",
        "#noth are includes positive and negative texts seperately.\n",
        "url = \"https://ai.stanford.edu/~amaas/data/sentiment/aclImdb_v1.tar.gz\"\n",
        "\n",
        "dataset = tf.keras.utils.get_file(\"aclImdb_v1\", url,\n",
        "                                    untar=True, cache_dir='.',\n",
        "                                    cache_subdir='')\n",
        "dataset_dir = os.path.join(os.path.dirname(dataset), 'aclImdb')"
      ],
      "metadata": {
        "id": "VFww4hBeONKZ",
        "colab": {
          "base_uri": "https://localhost:8080/"
        },
        "outputId": "ea9f0a91-62cd-41f1-d2b3-43ec70ba5283"
      },
      "execution_count": 2,
      "outputs": [
        {
          "output_type": "stream",
          "name": "stdout",
          "text": [
            "Downloading data from https://ai.stanford.edu/~amaas/data/sentiment/aclImdb_v1.tar.gz\n",
            "84131840/84125825 [==============================] - 2s 0us/step\n",
            "84140032/84125825 [==============================] - 2s 0us/step\n"
          ]
        }
      ]
    },
    {
      "cell_type": "code",
      "source": [
        "#if we want to look one of the file ;\n",
        "sample_file = os.path.join(dataset_dir, 'train/pos/1181_9.txt')\n",
        "with open(sample_file) as f:\n",
        "  print(f.read())"
      ],
      "metadata": {
        "colab": {
          "base_uri": "https://localhost:8080/"
        },
        "id": "dTNr26A-PCQJ",
        "outputId": "d3e95b81-c6ae-4269-b2b6-d9fa5957c272"
      },
      "execution_count": 3,
      "outputs": [
        {
          "output_type": "stream",
          "name": "stdout",
          "text": [
            "Rachel Griffiths writes and directs this award winning short film. A heartwarming story about coping with grief and cherishing the memory of those we've loved and lost. Although, only 15 minutes long, Griffiths manages to capture so much emotion and truth onto film in the short space of time. Bud Tingwell gives a touching performance as Will, a widower struggling to cope with his wife's death. Will is confronted by the harsh reality of loneliness and helplessness as he proceeds to take care of Ruth's pet cow, Tulip. The film displays the grief and responsibility one feels for those they have loved and lost. Good cinematography, great direction, and superbly acted. It will bring tears to all those who have lost a loved one, and survived.\n"
          ]
        }
      ]
    },
    {
      "cell_type": "code",
      "source": [
        "#now before starting to build our model we need to prepare our data for training\n",
        "#and we just need to negative and positive texts we just discard the others\n",
        "train_dir = os.path.join(dataset_dir, 'train')\n",
        "remove_dir = os.path.join(train_dir, 'unsup')\n",
        "shutil.rmtree(remove_dir)"
      ],
      "metadata": {
        "id": "WMicx97hQJ5t"
      },
      "execution_count": 4,
      "outputs": []
    },
    {
      "cell_type": "code",
      "source": [
        "#as you know when working with a machine learning task it is better to divide\n",
        "#your dataset as 3 part as training, validation and test. our dataset already divided \n",
        "#to two parts like training and test and now we are going to split our traing set as \n",
        "#training and validation set with a ratio that %80 training data and %20 validation data \n",
        "#for avoiding the overlap we need to use random seed or instead of this we can use suffle=false  \n",
        "batch_size = 32\n",
        "seed = 42\n",
        "raw_train_data = tf.keras.utils.text_dataset_from_directory(\n",
        "    'aclImdb/train', \n",
        "    batch_size=batch_size, \n",
        "    validation_split=0.2, \n",
        "    subset='training', \n",
        "    seed=seed)"
      ],
      "metadata": {
        "id": "U84K4YqcSw6m",
        "colab": {
          "base_uri": "https://localhost:8080/"
        },
        "outputId": "3025167a-d40c-4f35-9278-5e5cd9aab27f"
      },
      "execution_count": 5,
      "outputs": [
        {
          "output_type": "stream",
          "name": "stdout",
          "text": [
            "Found 25000 files belonging to 2 classes.\n",
            "Using 20000 files for training.\n"
          ]
        }
      ]
    },
    {
      "cell_type": "code",
      "source": [
        "raw_validation_data = tf.keras.utils.text_dataset_from_directory(\n",
        "    'aclImdb/train', \n",
        "    batch_size=batch_size, \n",
        "    validation_split=0.2, \n",
        "    subset='validation', \n",
        "    seed=seed)"
      ],
      "metadata": {
        "colab": {
          "base_uri": "https://localhost:8080/"
        },
        "id": "PVmIMQixjv-L",
        "outputId": "a2ca6943-3bae-4930-a3b4-82610f649f0e"
      },
      "execution_count": 6,
      "outputs": [
        {
          "output_type": "stream",
          "name": "stdout",
          "text": [
            "Found 25000 files belonging to 2 classes.\n",
            "Using 5000 files for validation.\n"
          ]
        }
      ]
    },
    {
      "cell_type": "code",
      "source": [
        "raw_test_data = tf.keras.utils.text_dataset_from_directory(\n",
        "    'aclImdb/test', \n",
        "    batch_size=batch_size)"
      ],
      "metadata": {
        "colab": {
          "base_uri": "https://localhost:8080/"
        },
        "id": "pdJ022Sjk6Ek",
        "outputId": "385e367e-6224-4155-ada8-724fa03475b4"
      },
      "execution_count": 7,
      "outputs": [
        {
          "output_type": "stream",
          "name": "stdout",
          "text": [
            "Found 25000 files belonging to 2 classes.\n"
          ]
        }
      ]
    },
    {
      "cell_type": "markdown",
      "source": [
        "\n",
        "*   Before training we need to standardize, tokenize and vectorize our data\n",
        "*   Standardization means that we need to clean our text data such as punctuation and html syntax.\n",
        "*   Tokenization means that we are splitting our text to tokens like it's words and spaces\n",
        "*   Vectorization means that we will convert our tokens to numbers to feed our neural network\n",
        "*   All these can done by tf.keras.layers.TextVectorization layer but one thing to remember\n",
        "*   We can not remove html tags with this layer, we need to write a custom function to clean our text data to html tags"
      ],
      "metadata": {
        "id": "7gF3NYaPnIfk"
      }
    },
    {
      "cell_type": "code",
      "source": [
        "def custom_standardization(input_data):\n",
        "  lowercase = tf.strings.lower(input_data)\n",
        "  stripped_html = tf.strings.regex_replace(lowercase, '<br />', ' ')\n",
        "  return tf.strings.regex_replace(stripped_html,\n",
        "                                  '[%s]' % re.escape(string.punctuation),\n",
        "                                  '')"
      ],
      "metadata": {
        "id": "JCJDoCvllAPq"
      },
      "execution_count": 8,
      "outputs": []
    },
    {
      "cell_type": "code",
      "source": [
        "#now we can use the tf.keras.layers.TextVectorization layer for standardize, tokenize and vectorize our text data\n",
        "#we are setting our output mode to int for taking unique integer indeces for every token\n",
        "max_features = 10000\n",
        "sequence_length = 250\n",
        "vectorize_layer = tf.keras.layers.TextVectorization(\n",
        "    standardize=custom_standardization,\n",
        "    max_tokens=max_features,\n",
        "    output_mode='int',\n",
        "    output_sequence_length=sequence_length)"
      ],
      "metadata": {
        "id": "OUkVPptMn3IO"
      },
      "execution_count": 9,
      "outputs": []
    },
    {
      "cell_type": "code",
      "source": [
        "#adapt fits the state of the preprocessing layer to the dataset and this will cause the model to build an index of strings to integers.\n",
        "train_text = raw_train_data.map(lambda x, y: x)\n",
        "vectorize_layer.adapt(train_text)"
      ],
      "metadata": {
        "id": "WseRBxhZotLI"
      },
      "execution_count": 10,
      "outputs": []
    },
    {
      "cell_type": "code",
      "source": [
        "#before continue we will create a function and see the results of using this layer\n",
        "def vectorize_text(text, label):\n",
        "  text = tf.expand_dims(text, -1)\n",
        "  return vectorize_layer(text), label"
      ],
      "metadata": {
        "id": "YWn17qfSpvsR"
      },
      "execution_count": 11,
      "outputs": []
    },
    {
      "cell_type": "code",
      "source": [
        "text_batch, label_batch = next(iter(raw_train_data))\n",
        "first_review, first_label = text_batch[0], label_batch[0]\n",
        "print(\"Review\", first_review)\n",
        "print(\"Label\", raw_train_data.class_names[first_label])\n",
        "print(\"Vectorized review\", vectorize_text(first_review, first_label))"
      ],
      "metadata": {
        "colab": {
          "base_uri": "https://localhost:8080/"
        },
        "id": "AB9DPXzwqIRQ",
        "outputId": "b31e021a-20c0-4f7d-8dd9-9a9354e7a5c9"
      },
      "execution_count": 12,
      "outputs": [
        {
          "output_type": "stream",
          "name": "stdout",
          "text": [
            "Review tf.Tensor(b'Silent Night, Deadly Night 5 is the very last of the series, and like part 4, it\\'s unrelated to the first three except by title and the fact that it\\'s a Christmas-themed horror flick.<br /><br />Except to the oblivious, there\\'s some obvious things going on here...Mickey Rooney plays a toymaker named Joe Petto and his creepy son\\'s name is Pino. Ring a bell, anyone? Now, a little boy named Derek heard a knock at the door one evening, and opened it to find a present on the doorstep for him. Even though it said \"don\\'t open till Christmas\", he begins to open it anyway but is stopped by his dad, who scolds him and sends him to bed, and opens the gift himself. Inside is a little red ball that sprouts Santa arms and a head, and proceeds to kill dad. Oops, maybe he should have left well-enough alone. Of course Derek is then traumatized by the incident since he watched it from the stairs, but he doesn\\'t grow up to be some killer Santa, he just stops talking.<br /><br />There\\'s a mysterious stranger lurking around, who seems very interested in the toys that Joe Petto makes. We even see him buying a bunch when Derek\\'s mom takes him to the store to find a gift for him to bring him out of his trauma. And what exactly is this guy doing? Well, we\\'re not sure but he does seem to be taking these toys apart to see what makes them tick. He does keep his landlord from evicting him by promising him to pay him in cash the next day and presents him with a \"Larry the Larvae\" toy for his kid, but of course \"Larry\" is not a good toy and gets out of the box in the car and of course, well, things aren\\'t pretty.<br /><br />Anyway, eventually what\\'s going on with Joe Petto and Pino is of course revealed, and as with the old story, Pino is not a \"real boy\". Pino is probably even more agitated and naughty because he suffers from \"Kenitalia\" (a smooth plastic crotch) so that could account for his evil ways. And the identity of the lurking stranger is revealed too, and there\\'s even kind of a happy ending of sorts. Whee.<br /><br />A step up from part 4, but not much of one. Again, Brian Yuzna is involved, and Screaming Mad George, so some decent special effects, but not enough to make this great. A few leftovers from part 4 are hanging around too, like Clint Howard and Neith Hunter, but that doesn\\'t really make any difference. Anyway, I now have seeing the whole series out of my system. Now if I could get some of it out of my brain. 4 out of 5.', shape=(), dtype=string)\n",
            "Label neg\n",
            "Vectorized review (<tf.Tensor: shape=(1, 250), dtype=int64, numpy=\n",
            "array([[1287,  313, 2380,  313,  661,    7,    2,   52,  229,    5,    2,\n",
            "         200,    3,   38,  170,  669,   29, 5492,    6,    2,   83,  297,\n",
            "         549,   32,  410,    3,    2,  186,   12,   29,    4,    1,  191,\n",
            "         510,  549,    6,    2, 8229,  212,   46,  576,  175,  168,   20,\n",
            "           1, 5361,  290,    4,    1,  761,  969,    1,    3,   24,  935,\n",
            "        2271,  393,    7,    1, 1675,    4, 3747,  250,  148,    4,  112,\n",
            "         436,  761, 3529,  548,    4, 3633,   31,    2, 1331,   28, 2096,\n",
            "           3, 2912,    9,    6,  163,    4, 1006,   20,    2,    1,   15,\n",
            "          85,   53,  147,    9,  292,   89,  959, 2314,  984,   27,  762,\n",
            "           6,  959,    9,  564,   18,    7, 2140,   32,   24, 1254,   36,\n",
            "           1,   85,    3, 3298,   85,    6, 1410,    3, 1936,    2, 3408,\n",
            "         301,  965,    7,    4,  112,  740, 1977,   12,    1, 2014, 2772,\n",
            "           3,    4,  428,    3, 5177,    6,  512, 1254,    1,  278,   27,\n",
            "         139,   25,  308,    1,  579,    5,  259, 3529,    7,   92, 8981,\n",
            "          32,    2, 3842,  230,   27,  289,    9,   35,    2, 5712,   18,\n",
            "          27,  144, 2166,   56,    6,   26,   46,  466, 2014,   27,   40,\n",
            "        2745,  657,  212,    4, 1376, 3002, 7080,  183,   36,  180,   52,\n",
            "         920,    8,    2, 4028,   12,  969,    1,  158,   71,   53,   67,\n",
            "          85, 2754,    4,  734,   51,    1, 1611,  294,   85,    6,    2,\n",
            "        1164,    6,  163,    4, 3408,   15,   85,    6,  717,   85,   44,\n",
            "           5,   24, 7158,    3,   48,  604,    7,   11,  225,  384,   73,\n",
            "          65,   21,  242,   18,   27,  120,  295,    6,   26,  667,  129,\n",
            "        4028,  948,    6,   67,   48,  158,   93,    1]])>, <tf.Tensor: shape=(), dtype=int32, numpy=0>)\n"
          ]
        }
      ]
    },
    {
      "cell_type": "markdown",
      "source": [
        "As we can see above, each token replaced by an integer.We can also check specific numbers meaning in our tokens with calling get_vocabulary() on the layer, let's see!"
      ],
      "metadata": {
        "id": "p-QWxq0_qdSA"
      }
    },
    {
      "cell_type": "code",
      "source": [
        "print(\"1578 ---> \",vectorize_layer.get_vocabulary()[1578])\n",
        "print(\"359 ---> \",vectorize_layer.get_vocabulary()[359])\n",
        "print('Vocabulary size: {}'.format(len(vectorize_layer.get_vocabulary())))"
      ],
      "metadata": {
        "colab": {
          "base_uri": "https://localhost:8080/"
        },
        "id": "_b0L9RfIqZbJ",
        "outputId": "f64545fc-3dad-4a29-cd4d-553df5294cbc"
      },
      "execution_count": 13,
      "outputs": [
        {
          "output_type": "stream",
          "name": "stdout",
          "text": [
            "1578 --->  finding\n",
            "359 --->  production\n",
            "Vocabulary size: 10000\n"
          ]
        }
      ]
    },
    {
      "cell_type": "code",
      "source": [
        "#as our final preprocessing on our data we are going to apply vectorize_text to our train, validation and test data\n",
        "train_data = raw_train_data.map(vectorize_text)\n",
        "validation_data = raw_validation_data.map(vectorize_text)\n",
        "test_data = raw_test_data.map(vectorize_text) "
      ],
      "metadata": {
        "id": "w47-aTQ5rHAO"
      },
      "execution_count": 14,
      "outputs": []
    },
    {
      "cell_type": "markdown",
      "source": [
        "For dataset performance issues, .cache() keeps data in memory after it's loaded off disk. This will ensure the dataset does not become a bottleneck while training your model. \n",
        ".prefetch() overlaps data preprocessing and model execution while training."
      ],
      "metadata": {
        "id": "W_40hgc4r_rP"
      }
    },
    {
      "cell_type": "code",
      "source": [
        "AUTOTUNE = tf.data.AUTOTUNE\n",
        "train_data = train_data.cache().prefetch(buffer_size=AUTOTUNE)\n",
        "validation_data = validation_data.cache().prefetch(buffer_size=AUTOTUNE)\n",
        "test_data = test_data.cache().prefetch(buffer_size=AUTOTUNE)"
      ],
      "metadata": {
        "id": "xgRtY76BrtVO"
      },
      "execution_count": 15,
      "outputs": []
    },
    {
      "cell_type": "markdown",
      "source": [
        "Embedding layer; This layer takes the integer-encoded reviews and looks up an embedding vector for each word-index. These vectors are learned as the model trains. The vectors add a dimension to the output array. The resulting dimensions are: batch, sequence, embedding.\n",
        "Next, a GlobalAveragePooling1D layer returns a fixed-length output vector for each example by averaging over the sequence dimension. This allows the model to handle input of variable length, in the simplest way possible.\n",
        "This fixed-length output vector is piped through a fully-connected or dense layer with 16 hidden units.\n",
        "The last layer is densely connected with a single output node."
      ],
      "metadata": {
        "id": "tPBk_ltttVlh"
      }
    },
    {
      "cell_type": "code",
      "source": [
        "#time to create our neural network!!\n",
        "model = tf.keras.Sequential([\n",
        "  tf.keras.layers.Embedding(max_features + 1, 16),\n",
        "  tf.keras.layers.Dropout(0.2),\n",
        "  tf.keras.layers.GlobalAveragePooling1D(),\n",
        "  tf.keras.layers.Dropout(0.2),\n",
        "  tf.keras.layers.Dense(1)])\n",
        "\n",
        "model.summary()\n"
      ],
      "metadata": {
        "colab": {
          "base_uri": "https://localhost:8080/"
        },
        "id": "JSf87c-ssyYF",
        "outputId": "c31f0e09-40e6-40f2-90b1-15013d0edeec"
      },
      "execution_count": 16,
      "outputs": [
        {
          "output_type": "stream",
          "name": "stdout",
          "text": [
            "Model: \"sequential\"\n",
            "_________________________________________________________________\n",
            " Layer (type)                Output Shape              Param #   \n",
            "=================================================================\n",
            " embedding (Embedding)       (None, None, 16)          160016    \n",
            "                                                                 \n",
            " dropout (Dropout)           (None, None, 16)          0         \n",
            "                                                                 \n",
            " global_average_pooling1d (G  (None, 16)               0         \n",
            " lobalAveragePooling1D)                                          \n",
            "                                                                 \n",
            " dropout_1 (Dropout)         (None, 16)                0         \n",
            "                                                                 \n",
            " dense (Dense)               (None, 1)                 17        \n",
            "                                                                 \n",
            "=================================================================\n",
            "Total params: 160,033\n",
            "Trainable params: 160,033\n",
            "Non-trainable params: 0\n",
            "_________________________________________________________________\n"
          ]
        }
      ]
    },
    {
      "cell_type": "code",
      "source": [
        "#now we need to an optimizer and a loss function for training and since its binary \n",
        "#classification we can use BinaryCrossentropy loss function\n",
        "model.compile(loss=tf.keras.losses.BinaryCrossentropy(from_logits=True),\n",
        "              optimizer='adam',\n",
        "              metrics=tf.metrics.BinaryAccuracy(threshold=0.0))"
      ],
      "metadata": {
        "id": "ddBFKicYuPo7"
      },
      "execution_count": 17,
      "outputs": []
    },
    {
      "cell_type": "code",
      "source": [
        "#then, we can train our model \n",
        "history = model.fit(\n",
        "    train_data,\n",
        "    validation_data=validation_data,\n",
        "    epochs=30)"
      ],
      "metadata": {
        "colab": {
          "base_uri": "https://localhost:8080/"
        },
        "id": "ijFJ0Xsvux1B",
        "outputId": "98866bb7-3852-469a-ab49-c888551145a2"
      },
      "execution_count": null,
      "outputs": [
        {
          "output_type": "stream",
          "name": "stdout",
          "text": [
            "Epoch 1/30\n",
            "625/625 [==============================] - 10s 15ms/step - loss: 0.6634 - binary_accuracy: 0.6878 - val_loss: 0.6134 - val_binary_accuracy: 0.7738\n",
            "Epoch 2/30\n",
            "625/625 [==============================] - 4s 6ms/step - loss: 0.5480 - binary_accuracy: 0.8001 - val_loss: 0.4975 - val_binary_accuracy: 0.8210\n",
            "Epoch 3/30\n",
            "625/625 [==============================] - 4s 6ms/step - loss: 0.4442 - binary_accuracy: 0.8442 - val_loss: 0.4196 - val_binary_accuracy: 0.8470\n",
            "Epoch 4/30\n",
            "625/625 [==============================] - 4s 6ms/step - loss: 0.3782 - binary_accuracy: 0.8670 - val_loss: 0.3735 - val_binary_accuracy: 0.8604\n",
            "Epoch 5/30\n",
            "625/625 [==============================] - 4s 6ms/step - loss: 0.3352 - binary_accuracy: 0.8795 - val_loss: 0.3449 - val_binary_accuracy: 0.8662\n",
            "Epoch 6/30\n",
            "625/625 [==============================] - 4s 6ms/step - loss: 0.3051 - binary_accuracy: 0.8879 - val_loss: 0.3260 - val_binary_accuracy: 0.8716\n",
            "Epoch 7/30\n",
            "625/625 [==============================] - 3s 6ms/step - loss: 0.2811 - binary_accuracy: 0.8955 - val_loss: 0.3126 - val_binary_accuracy: 0.8738\n",
            "Epoch 8/30\n",
            "625/625 [==============================] - 4s 6ms/step - loss: 0.2622 - binary_accuracy: 0.9050 - val_loss: 0.3030 - val_binary_accuracy: 0.8752\n",
            "Epoch 9/30\n",
            "625/625 [==============================] - 4s 6ms/step - loss: 0.2456 - binary_accuracy: 0.9104 - val_loss: 0.2963 - val_binary_accuracy: 0.8760\n",
            "Epoch 10/30\n",
            "625/625 [==============================] - 4s 6ms/step - loss: 0.2309 - binary_accuracy: 0.9173 - val_loss: 0.2920 - val_binary_accuracy: 0.8790\n",
            "Epoch 11/30\n",
            "625/625 [==============================] - 4s 6ms/step - loss: 0.2186 - binary_accuracy: 0.9220 - val_loss: 0.2888 - val_binary_accuracy: 0.8798\n",
            "Epoch 12/30\n",
            "625/625 [==============================] - 4s 6ms/step - loss: 0.2073 - binary_accuracy: 0.9252 - val_loss: 0.2871 - val_binary_accuracy: 0.8812\n",
            "Epoch 13/30\n",
            "625/625 [==============================] - 4s 6ms/step - loss: 0.1976 - binary_accuracy: 0.9299 - val_loss: 0.2863 - val_binary_accuracy: 0.8822\n",
            "Epoch 14/30\n",
            "625/625 [==============================] - 4s 6ms/step - loss: 0.1875 - binary_accuracy: 0.9334 - val_loss: 0.2863 - val_binary_accuracy: 0.8820\n",
            "Epoch 15/30\n",
            "625/625 [==============================] - 4s 6ms/step - loss: 0.1777 - binary_accuracy: 0.9385 - val_loss: 0.2871 - val_binary_accuracy: 0.8826\n",
            "Epoch 16/30\n",
            "625/625 [==============================] - 4s 6ms/step - loss: 0.1701 - binary_accuracy: 0.9423 - val_loss: 0.2884 - val_binary_accuracy: 0.8856\n",
            "Epoch 17/30\n",
            "625/625 [==============================] - 4s 6ms/step - loss: 0.1628 - binary_accuracy: 0.9445 - val_loss: 0.2906 - val_binary_accuracy: 0.8844\n",
            "Epoch 18/30\n",
            "625/625 [==============================] - 4s 6ms/step - loss: 0.1555 - binary_accuracy: 0.9473 - val_loss: 0.2932 - val_binary_accuracy: 0.8832\n",
            "Epoch 19/30\n",
            "625/625 [==============================] - 4s 6ms/step - loss: 0.1489 - binary_accuracy: 0.9498 - val_loss: 0.2959 - val_binary_accuracy: 0.8828\n",
            "Epoch 20/30\n",
            "625/625 [==============================] - 4s 6ms/step - loss: 0.1416 - binary_accuracy: 0.9534 - val_loss: 0.2996 - val_binary_accuracy: 0.8814\n",
            "Epoch 21/30\n",
            "625/625 [==============================] - 4s 6ms/step - loss: 0.1351 - binary_accuracy: 0.9560 - val_loss: 0.3038 - val_binary_accuracy: 0.8802\n",
            "Epoch 22/30\n",
            "625/625 [==============================] - 4s 6ms/step - loss: 0.1303 - binary_accuracy: 0.9581 - val_loss: 0.3079 - val_binary_accuracy: 0.8798\n",
            "Epoch 23/30\n",
            "625/625 [==============================] - 4s 6ms/step - loss: 0.1238 - binary_accuracy: 0.9605 - val_loss: 0.3123 - val_binary_accuracy: 0.8800\n",
            "Epoch 24/30\n",
            "625/625 [==============================] - 4s 6ms/step - loss: 0.1189 - binary_accuracy: 0.9628 - val_loss: 0.3178 - val_binary_accuracy: 0.8784\n",
            "Epoch 25/30\n",
            "625/625 [==============================] - 4s 6ms/step - loss: 0.1138 - binary_accuracy: 0.9657 - val_loss: 0.3237 - val_binary_accuracy: 0.8792\n",
            "Epoch 26/30\n",
            "625/625 [==============================] - 3s 6ms/step - loss: 0.1087 - binary_accuracy: 0.9664 - val_loss: 0.3290 - val_binary_accuracy: 0.8788\n",
            "Epoch 27/30\n",
            "625/625 [==============================] - 4s 6ms/step - loss: 0.1038 - binary_accuracy: 0.9686 - val_loss: 0.3351 - val_binary_accuracy: 0.8786\n",
            "Epoch 28/30\n",
            "625/625 [==============================] - 4s 6ms/step - loss: 0.0982 - binary_accuracy: 0.9704 - val_loss: 0.3412 - val_binary_accuracy: 0.8786\n",
            "Epoch 29/30\n",
            "625/625 [==============================] - 4s 6ms/step - loss: 0.0963 - binary_accuracy: 0.9721 - val_loss: 0.3479 - val_binary_accuracy: 0.8778\n",
            "Epoch 30/30\n",
            "625/625 [==============================] - 4s 6ms/step - loss: 0.0906 - binary_accuracy: 0.9740 - val_loss: 0.3551 - val_binary_accuracy: 0.8772\n"
          ]
        }
      ]
    },
    {
      "cell_type": "code",
      "source": [
        "#now let's evaluate our model's acrual performance with our test data\n",
        "loss, accuracy = model.evaluate(test_data)\n",
        "\n",
        "print(\"Loss: \", loss)\n",
        "print(\"Accuracy: \", accuracy)"
      ],
      "metadata": {
        "colab": {
          "base_uri": "https://localhost:8080/"
        },
        "id": "-KEmi9K4vtsh",
        "outputId": "0499e62c-70ab-456f-d5b8-2a044fa02614"
      },
      "execution_count": null,
      "outputs": [
        {
          "output_type": "stream",
          "name": "stdout",
          "text": [
            "782/782 [==============================] - 8s 10ms/step - loss: 0.4167 - binary_accuracy: 0.8566\n",
            "Loss:  0.41672614216804504\n",
            "Accuracy:  0.8565999865531921\n"
          ]
        }
      ]
    },
    {
      "cell_type": "markdown",
      "source": [
        "when we compare our accuracies, our training data is better than generalization error and it cause to overfitting and for avoiding overfitting we can use some methods and we will add these and improve our model and classification performance."
      ],
      "metadata": {
        "id": "dRVIRSEbwNDY"
      }
    },
    {
      "cell_type": "code",
      "source": [
        "#as seen above model.fit() returns a History object contains a dictionary with everything that \n",
        "#happened the training time \n",
        "history_dict=history.history\n",
        "history_dict.keys() "
      ],
      "metadata": {
        "colab": {
          "base_uri": "https://localhost:8080/"
        },
        "id": "v7-SgUs3JN0E",
        "outputId": "bbff7fbb-5d65-4130-8890-760b062993f3"
      },
      "execution_count": null,
      "outputs": [
        {
          "output_type": "execute_result",
          "data": {
            "text/plain": [
              "dict_keys(['loss', 'binary_accuracy', 'val_loss', 'val_binary_accuracy'])"
            ]
          },
          "metadata": {},
          "execution_count": 20
        }
      ]
    },
    {
      "cell_type": "code",
      "source": [
        "#we can use these entries for plot relation between validation and trainin losses\n",
        "accuracy=history_dict['binary_accuracy']\n",
        "validation_accuracy=history_dict['val_binary_accuracy']\n",
        "loss=history_dict['loss']\n",
        "validation_loss=history_dict['val_loss']"
      ],
      "metadata": {
        "id": "84IZ2pVYNbYt"
      },
      "execution_count": null,
      "outputs": []
    },
    {
      "cell_type": "code",
      "source": [
        "epochs=range(1,len(accuracy)+1)\n",
        "plt.plot(epochs, loss, 'ro', label='Training loss')\n",
        "plt.plot(epochs, validation_loss, 'r', label='Validation loss')\n",
        "plt.title('Training and Validation Loss')\n",
        "plt.xlabel('Epochs')\n",
        "plt.ylabel('Loss')\n",
        "plt.legend()\n",
        "plt.show()"
      ],
      "metadata": {
        "colab": {
          "base_uri": "https://localhost:8080/",
          "height": 295
        },
        "id": "oaMSSKeHODA7",
        "outputId": "0a3fb6de-cdc6-48c6-bf72-19eab9e90cd2"
      },
      "execution_count": null,
      "outputs": [
        {
          "output_type": "display_data",
          "data": {
            "image/png": "[encoded data removed]",
            "text/plain": [
              "<Figure size 432x288 with 1 Axes>"
            ]
          },
          "metadata": {
            "needs_background": "light"
          }
        }
      ]
    },
    {
      "cell_type": "code",
      "source": [
        "#same thing for accuracy\n",
        "plt.plot(epochs,accuracy,'yo',label='Training Accuracy')\n",
        "plt.plot(epochs,validation_accuracy,'y',label='Validation Accuracy')\n",
        "plt.title(\"Training and Validation Accuracy\")\n",
        "plt.xlabel(\"Epochs\")\n",
        "plt.ylabel(\"Accuracy\")\n",
        "plt.legend()\n",
        "plt.show()"
      ],
      "metadata": {
        "colab": {
          "base_uri": "https://localhost:8080/",
          "height": 295
        },
        "id": "Kc09JUftPfN8",
        "outputId": "5f6029db-1b49-436e-99ae-49029f9c3ca8"
      },
      "execution_count": null,
      "outputs": [
        {
          "output_type": "display_data",
          "data": {
            "image/png": "[encoded data removed]",
            "text/plain": [
              "<Figure size 432x288 with 1 Axes>"
            ]
          },
          "metadata": {
            "needs_background": "light"
          }
        }
      ]
    },
    {
      "cell_type": "markdown",
      "source": [
        "When looking at the graphs we can easily notice that our model performs better on training data with compared with unseen data which is validation data. It's an example of overfitting. After this point, the model over-optimizes and learns representations specific to the training data that do not generalize to test data.\n",
        "To prevent overfitting we can simply stop training when validaton accuracy no longer incerasing. We are gonna use tf.keras.callbacks.EarlyStopping callback for this purpose. And we need to add this method before training and I'm going to train new model and see how it's working. For this purpose I'm going to run my code until fitting my model and then continue to under this explanation."
      ],
      "metadata": {
        "id": "eQJHyfgMUXuu"
      }
    },
    {
      "cell_type": "code",
      "source": [
        "from tensorflow.keras.callbacks import EarlyStopping\n",
        "early_stopping=EarlyStopping()\n",
        "# This callback will stop the training when there is no improvement in the loss"
      ],
      "metadata": {
        "id": "Wt1p96xfb03f"
      },
      "execution_count": 18,
      "outputs": []
    },
    {
      "cell_type": "code",
      "source": [
        "history_with_callback=model.fit(\n",
        "    train_data,\n",
        "    validation_data=validation_data,\n",
        "    epochs=30,\n",
        "    batch_size=16,\n",
        "    callbacks=[early_stopping])"
      ],
      "metadata": {
        "id": "Sqg7bMQXfK1g",
        "colab": {
          "base_uri": "https://localhost:8080/"
        },
        "outputId": "0b0adb7d-a3cd-443c-8610-7b1c75bef97b"
      },
      "execution_count": 19,
      "outputs": [
        {
          "output_type": "stream",
          "name": "stdout",
          "text": [
            "Epoch 1/30\n",
            "625/625 [==============================] - 10s 15ms/step - loss: 0.6621 - binary_accuracy: 0.6909 - val_loss: 0.6115 - val_binary_accuracy: 0.7726\n",
            "Epoch 2/30\n",
            "625/625 [==============================] - 3s 6ms/step - loss: 0.5461 - binary_accuracy: 0.8030 - val_loss: 0.4959 - val_binary_accuracy: 0.8222\n"
          ]
        }
      ]
    },
    {
      "cell_type": "markdown",
      "source": [
        "As we can see above, after the second epoch it just stopped because we just used EarlyStopping with default and its patience=0 means that training is terminated as soon as the performance measure gets worse from one epoch to the next."
      ],
      "metadata": {
        "id": "y2PIok0YlwOJ"
      }
    },
    {
      "cell_type": "code",
      "source": [
        "#for make your model capable of processing raw strings like simplfying the deploying we can \n",
        "#add our TextVectorization function inside our model \n",
        "export_model = tf.keras.Sequential([\n",
        "  vectorize_layer,\n",
        "  model,\n",
        "  tf.keras.layers.Activation('sigmoid')\n",
        "])\n",
        "export_model.compile(\n",
        "    loss=tf.keras.losses.BinaryCrossentropy(from_logits=False), optimizer=\"adam\", metrics=['accuracy']\n",
        ")\n",
        "\n",
        "# Test it with `raw_test_ds`, which yields raw strings\n",
        "loss, accuracy = export_model.evaluate(raw_test_data)\n",
        "print(accuracy)\n"
      ],
      "metadata": {
        "colab": {
          "base_uri": "https://localhost:8080/"
        },
        "id": "f3QRNphA7UC7",
        "outputId": "f95432e4-2dfc-4332-f599-049be1f6e032"
      },
      "execution_count": 22,
      "outputs": [
        {
          "output_type": "stream",
          "name": "stdout",
          "text": [
            "782/782 [==============================] - 8s 10ms/step - loss: 0.5016 - accuracy: 0.8127\n",
            "0.8126800060272217\n"
          ]
        }
      ]
    },
    {
      "cell_type": "code",
      "source": [
        "#and now we can predict our own examples\n",
        "import numpy as np\n",
        "test_examples=[\"I really love tensorflow\",\n",
        "               \"I hate all people\"]\n",
        "predictions=export_model.predict(test_examples)\n",
        "predictions"
      ],
      "metadata": {
        "colab": {
          "base_uri": "https://localhost:8080/"
        },
        "id": "GGsil0XA8_HZ",
        "outputId": "9e4c86f7-f6c5-4c4b-b619-3f5d521cf4c4"
      },
      "execution_count": 45,
      "outputs": [
        {
          "output_type": "execute_result",
          "data": {
            "text/plain": [
              "array([[0.59146637],\n",
              "       [0.57382923]], dtype=float32)"
            ]
          },
          "metadata": {},
          "execution_count": 45
        }
      ]
    },
    {
      "cell_type": "markdown",
      "source": [
        ""
      ],
      "metadata": {
        "id": "U0pFIhNx_ZMS"
      }
    }
  ]
}